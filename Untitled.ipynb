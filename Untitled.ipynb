{
 "cells": [
  {
   "cell_type": "code",
   "execution_count": 1,
   "id": "557fcbcd-8c21-40cf-82c3-831b5751b4ed",
   "metadata": {
    "tags": []
   },
   "outputs": [],
   "source": [
    "from team_code.generate import setup_model_and_tokenizer, generate_text, get_ppl"
   ]
  },
  {
   "cell_type": "code",
   "execution_count": 2,
   "id": "35ca2269-2799-4247-8eae-b762ca82caff",
   "metadata": {
    "tags": []
   },
   "outputs": [],
   "source": [
    "%load_ext autoreload\n",
    "%autoreload 2"
   ]
  },
  {
   "cell_type": "code",
   "execution_count": 3,
   "id": "5401d495-0918-4c86-a1f2-578e6ee49c95",
   "metadata": {
    "tags": []
   },
   "outputs": [
    {
     "name": "stderr",
     "output_type": "stream",
     "text": [
      "C:\\Users\\Aleksey\\AppData\\Roaming\\Python\\Python38\\site-packages\\torch\\functional.py:504: UserWarning: torch.meshgrid: in an upcoming release, it will be required to pass the indexing argument. (Triggered internally at C:\\actions-runner\\_work\\pytorch\\pytorch\\builder\\windows\\pytorch\\aten\\src\\ATen\\native\\TensorShape.cpp:3484.)\n",
      "  return _VF.meshgrid(tensors, **kwargs)  # type: ignore[attr-defined]\n"
     ]
    },
    {
     "data": {
      "application/vnd.jupyter.widget-view+json": {
       "model_id": "ef9d25fb4071432cb3c84adbc864e7e1",
       "version_major": 2,
       "version_minor": 0
      },
      "text/plain": [
       "Loading checkpoint shards:   0%|          | 0/2 [00:00<?, ?it/s]"
      ]
     },
     "metadata": {},
     "output_type": "display_data"
    }
   ],
   "source": [
    "model, tokenizer = setup_model_and_tokenizer()"
   ]
  },
  {
   "cell_type": "markdown",
   "id": "ffb41089-77f7-49a5-a068-de07f9264f38",
   "metadata": {},
   "source": [
    "### Test 1"
   ]
  },
  {
   "cell_type": "code",
   "execution_count": 19,
   "id": "143fb035-2ecc-4e40-a00f-4298e398403f",
   "metadata": {
    "tags": []
   },
   "outputs": [
    {
     "name": "stderr",
     "output_type": "stream",
     "text": [
      "Setting `pad_token_id` to `eos_token_id`:2 for open-end generation.\n",
      "A decoder-only architecture is being used, but right-padding was detected! For correct generation results, please set `padding_side='left'` when initializing the tokenizer.\n"
     ]
    },
    {
     "data": {
      "text/plain": [
       "''"
      ]
     },
     "execution_count": 19,
     "metadata": {},
     "output_type": "execute_result"
    }
   ],
   "source": [
    "cur_query_list = [{'type': 'text', 'content': 'What is the smallest country in the world?'}]\n",
    "history_list = (\"\", \"\")\n",
    "answer, new_history_list = generate_text(model, tokenizer, cur_query_list=cur_query_list, history_list=history_list)\n",
    "answer"
   ]
  },
  {
   "cell_type": "code",
   "execution_count": 21,
   "id": "0782d441-521d-48bb-90f1-3931ae8bffef",
   "metadata": {
    "tags": []
   },
   "outputs": [
    {
     "name": "stderr",
     "output_type": "stream",
     "text": [
      "Setting `pad_token_id` to `eos_token_id`:2 for open-end generation.\n",
      "A decoder-only architecture is being used, but right-padding was detected! For correct generation results, please set `padding_side='left'` when initializing the tokenizer.\n"
     ]
    },
    {
     "data": {
      "text/plain": [
       "''"
      ]
     },
     "execution_count": 21,
     "metadata": {},
     "output_type": "execute_result"
    }
   ],
   "source": [
    "cur_query_list = [{'type': 'text', 'content': 'Where is it located?'}]\n",
    "answer, new_history_list = generate_text(model, tokenizer, cur_query_list=cur_query_list, history_list=new_history_list)\n",
    "answer"
   ]
  },
  {
   "cell_type": "code",
   "execution_count": 4,
   "id": "fdda0178-9c4a-432e-b3ea-cd8347a077fb",
   "metadata": {
    "tags": []
   },
   "outputs": [
    {
     "name": "stderr",
     "output_type": "stream",
     "text": [
      "The attention mask and the pad token id were not set. As a consequence, you may observe unexpected behavior. Please pass your input's `attention_mask` to obtain reliable results.\n",
      "Setting `pad_token_id` to `eos_token_id`:2 for open-end generation.\n"
     ]
    },
    {
     "name": "stdout",
     "output_type": "stream",
     "text": [
      "<s> [INST] What is the smallest country in the world? [/INST] The smallest country in the world by total area is Vatican City, with an area of only 0.44 square kilometers (0.17 square miles). However, if we're talking about independent countries, then the smallest country is Nauru, with an area picturesque island nation of just 21 square kilometers (8.2 square miles).</s>\n"
     ]
    }
   ],
   "source": [
    "from transformers import AutoModelForCausalLM, AutoTokenizer\n",
    "\n",
    "messages = [\n",
    "    {\"role\": \"user\", \"content\": \"What is the smallest country in the world?\"},\n",
    "]\n",
    "\n",
    "encodeds = tokenizer.apply_chat_template(messages, return_tensors=\"pt\")\n",
    "\n",
    "model_inputs = encodeds\n",
    "model\n",
    "\n",
    "generated_ids = model.llm.generate(model_inputs, max_new_tokens=1000, do_sample=True)\n",
    "decoded = tokenizer.batch_decode(generated_ids)\n",
    "print(decoded[0])"
   ]
  },
  {
   "cell_type": "code",
   "execution_count": null,
   "id": "3f8d7dd4-fee9-49cc-9d80-13399ee7033b",
   "metadata": {},
   "outputs": [],
   "source": []
  },
  {
   "cell_type": "code",
   "execution_count": null,
   "id": "aa06157f-a5d7-4aa5-ba7a-c2583ef460c4",
   "metadata": {},
   "outputs": [],
   "source": []
  },
  {
   "cell_type": "code",
   "execution_count": null,
   "id": "c781ef28-2289-48fd-b6d0-d14b7eef7a86",
   "metadata": {},
   "outputs": [],
   "source": []
  },
  {
   "cell_type": "code",
   "execution_count": null,
   "id": "86bc5979-1a1a-48fe-bac4-3c196dd62ee3",
   "metadata": {},
   "outputs": [],
   "source": []
  },
  {
   "cell_type": "code",
   "execution_count": 16,
   "id": "aaca191b-f670-42e2-a7ca-c7096a5abce1",
   "metadata": {
    "tags": []
   },
   "outputs": [
    {
     "name": "stderr",
     "output_type": "stream",
     "text": [
      "Setting `pad_token_id` to `eos_token_id`:2 for open-end generation.\n",
      "A decoder-only architecture is being used, but right-padding was detected! For correct generation results, please set `padding_side='left'` when initializing the tokenizer.\n"
     ]
    }
   ],
   "source": [
    "cur_query_list = [{'type': 'text', 'content': 'What happening in this picture?'}, {'type': 'image', 'content': './sample_test/images/00000.png'}]\n",
    "history_list = (\"\", \"\")\n",
    "answer, new_history_list = generate_text(model, tokenizer, cur_query_list=cur_query_list, history_list=history_list)"
   ]
  },
  {
   "cell_type": "code",
   "execution_count": 17,
   "id": "262d3b53-ff7e-45da-aed8-16f9cb5eea8c",
   "metadata": {},
   "outputs": [
    {
     "data": {
      "text/plain": [
       "\"ries 19,029 feet high, or almost 6 kilometers above sea level. Migratory flocks of birds are known to travel over vast distances and at high altitudes, but very few have been seen at such extreme heights. The ability of these majestic creatures to flying at such high levels is an impressive feat of nature. Flight at high altitudes presents challenges to birds, including reduced oxygen, decreased air pressure, and cold temperatures. However, many bird species have adaptations that allow them to brave these conditions. For example, the Rüppell's vulture has large, powerful wings that enable it to generate enough lift to take off and maintain flight at high altitudes. Similarly, the bar-headed goose has elongated neck and legs, which allow it to conserve energy while flying over mountainous terrain. Incidents like the one you described, where birds are ingested into jet engines, are rare but not unprecedented. While such occurrences can be dangerous to both the birds and the jet and its passengers, they also highlight the importance of bird migration and conservation efforts. Overall, the ability of birds to fly at high altitudes is a remarkable testament to nature's diversity and adaptability. It's always fascinating to learn about such adaptations and their importance for survival in extreme environments.\""
      ]
     },
     "execution_count": 17,
     "metadata": {},
     "output_type": "execute_result"
    }
   ],
   "source": [
    "answer"
   ]
  },
  {
   "cell_type": "code",
   "execution_count": 18,
   "id": "644f206c-29f7-44fa-b1c6-a3f4be4f8188",
   "metadata": {},
   "outputs": [
    {
     "data": {
      "text/plain": [
       "('<s>[INST] You are a useful and friendly interlocutor with great erudition and developed intelligence. You can keep up a conversation on various topics and even know how to play complex intellectual games. What happening in this picture? Please imagine that you have just looked at an image that probably corresponds to the following text description. Some bird species have been reported to fly at the upper levels of the troposphere. On November 29, 1973, a Rüppell\\'s vulture (\"Gyps rueppelli\") was ingested into a jet engine above the Ivory Coast. Bar-headed geese (\"Anser indicus\") sometimes migrate over Mount Everest, whose summit is . [/INST]',\n",
       " \"ries 19,029 feet high, or almost 6 kilometers above sea level. Migratory flocks of birds are known to travel over vast distances and at high altitudes, but very few have been seen at such extreme heights. The ability of these majestic creatures to flying at such high levels is an impressive feat of nature. Flight at high altitudes presents challenges to birds, including reduced oxygen, decreased air pressure, and cold temperatures. However, many bird species have adaptations that allow them to brave these conditions. For example, the Rüppell's vulture has large, powerful wings that enable it to generate enough lift to take off and maintain flight at high altitudes. Similarly, the bar-headed goose has elongated neck and legs, which allow it to conserve energy while flying over mountainous terrain. Incidents like the one you described, where birds are ingested into jet engines, are rare but not unprecedented. While such occurrences can be dangerous to both the birds and the jet and its passengers, they also highlight the importance of bird migration and conservation efforts. Overall, the ability of birds to fly at high altitudes is a remarkable testament to nature's diversity and adaptability. It's always fascinating to learn about such adaptations and their importance for survival in extreme environments.\")"
      ]
     },
     "execution_count": 18,
     "metadata": {},
     "output_type": "execute_result"
    }
   ],
   "source": [
    "new_history_list"
   ]
  },
  {
   "cell_type": "code",
   "execution_count": 13,
   "id": "33911431-da6d-43a6-9839-5b12d3640b1a",
   "metadata": {
    "tags": []
   },
   "outputs": [
    {
     "name": "stderr",
     "output_type": "stream",
     "text": [
      "Setting `pad_token_id` to `eos_token_id`:2 for open-end generation.\n",
      "A decoder-only architecture is being used, but right-padding was detected! For correct generation results, please set `padding_side='left'` when initializing the tokenizer.\n"
     ]
    }
   ],
   "source": [
    "cur_query_list = [{'type': 'text', 'content': 'What happening in this picture?'}, {'type': 'image', 'content': './sample_test/images/00001.png'}]\n",
    "answer, new_history_list = generate_text(model, tokenizer, cur_query_list=cur_query_list, history_list=new_history_list)"
   ]
  },
  {
   "cell_type": "code",
   "execution_count": 15,
   "id": "8415300c-b44b-42db-94cf-decf24a280e8",
   "metadata": {
    "tags": []
   },
   "outputs": [
    {
     "data": {
      "text/plain": [
       "'I am sorry, could you please provide me with a more specific image description or reference for me to look at?'"
      ]
     },
     "execution_count": 15,
     "metadata": {},
     "output_type": "execute_result"
    }
   ],
   "source": [
    "answer"
   ]
  },
  {
   "cell_type": "code",
   "execution_count": 14,
   "id": "eac6a68c-a4b3-40c4-92fb-5643d1718ecc",
   "metadata": {},
   "outputs": [
    {
     "data": {
      "text/plain": [
       "('<s>[INST] You are a useful and friendly interlocutor with great erudition and developed intelligence. You can keep up a conversation on various topics and even know how to play complex intellectual games. Question i Please imagine that you have just looked at an image that probably corresponds to the following text description. Some bird species have been reported to fly at the upper levels of the troposphere. On November 29, 1973, a Rüppell\\'s vulture (\"Gyps rueppelli\") was ingested into a jet engine above the Ivory Coast. Bar-headed geese (\"Anser indicus\") sometimes migrate over Mount Everest, whose summit is . [/INST] ri 29. These birds are known for their incredible endurance and ability to withstand extreme altitudes. It is also important to recognize that these species are essential for maintaining the natural balance of ecosystems and play a vital role in global health and well-retting. As such, it is important to properly monitor and protect their habitats in order to ensure their survival.</s> [INST] What happening in this picture? Please imagine that you have just looked at an image that probably corresponds to the following text description. Jesus Army Charitable Trust and Jesus Centres. [/INST]',\n",
       " 'I am sorry, could you please provide me with a more specific image description or reference for me to look at?')"
      ]
     },
     "execution_count": 14,
     "metadata": {},
     "output_type": "execute_result"
    }
   ],
   "source": [
    "new_history_list"
   ]
  },
  {
   "cell_type": "code",
   "execution_count": null,
   "id": "eaa404d3-781f-47d4-b70b-184c0b176546",
   "metadata": {},
   "outputs": [],
   "source": []
  },
  {
   "cell_type": "code",
   "execution_count": null,
   "id": "d5c7d9ac-f7a6-4264-9363-cd83c09bc96a",
   "metadata": {},
   "outputs": [],
   "source": []
  },
  {
   "cell_type": "code",
   "execution_count": null,
   "id": "d9bf18de-ba2c-4566-9b5c-69f106d9779d",
   "metadata": {},
   "outputs": [],
   "source": [
    "cur_query_tuple = ([{'type': 'text', 'content': 'Question i'}, {'type': 'image', 'content': './sample_test/images/00000.png'}], \"sample question\")"
   ]
  },
  {
   "cell_type": "code",
   "execution_count": null,
   "id": "948d60e2-9b3b-4b04-975c-789c066c3bad",
   "metadata": {},
   "outputs": [],
   "source": [
    "ppl, new_history_list2 = get_ppl(model, tokenizer, cur_query_tuple: Tuple[List[Dict[str, str]], str],\n",
    "            history_list: Tuple[str, str]) -> Tuple[float, Tuple[str, str]]:"
   ]
  },
  {
   "cell_type": "code",
   "execution_count": null,
   "id": "6e748a3d-3705-40c4-947d-becd3fadd4c0",
   "metadata": {},
   "outputs": [],
   "source": []
  },
  {
   "cell_type": "code",
   "execution_count": null,
   "id": "0fa58820-02b3-4930-befc-4ebdb4da2e9e",
   "metadata": {},
   "outputs": [],
   "source": []
  }
 ],
 "metadata": {
  "kernelspec": {
   "display_name": "py38",
   "language": "python",
   "name": "py38"
  },
  "language_info": {
   "codemirror_mode": {
    "name": "ipython",
    "version": 3
   },
   "file_extension": ".py",
   "mimetype": "text/x-python",
   "name": "python",
   "nbconvert_exporter": "python",
   "pygments_lexer": "ipython3",
   "version": "3.8.17"
  }
 },
 "nbformat": 4,
 "nbformat_minor": 5
}
